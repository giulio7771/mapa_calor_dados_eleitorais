{
 "cells": [
  {
   "cell_type": "markdown",
   "metadata": {},
   "source": [
    "# Geração de Mapa de Calor de Zonas Eleitorais de Doutor Pedrinho\n",
    "<i> Giulio Giovanella\n",
    "    \n",
    "## FURB - Ciência da Computação\n",
    "### Ciência de dados 2020/2\n",
    "#### Professor: Aurélio Faustino Hoppe"
   ]
  },
  {
   "cell_type": "code",
   "execution_count": 1,
   "metadata": {},
   "outputs": [],
   "source": [
    "import time\n",
    "from selenium import webdriver\n",
    "import logging\n",
    "from selenium import webdriver\n",
    "from bs4 import BeautifulSoup\n",
    "import pandas as pd"
   ]
  },
  {
   "cell_type": "code",
   "execution_count": 2,
   "metadata": {},
   "outputs": [
    {
     "name": "stdout",
     "output_type": "stream",
     "text": [
      "<selenium.webdriver.remote.webelement.WebElement (session=\"eb32b75669a490ae2e255e37a67ba27a\", element=\"45f1e283-7773-433c-bdb0-7fe3f330b016\")>\n"
     ]
    }
   ],
   "source": [
    "#necessário fazer o download do chromedriver correspondente a versão do chrome instalada na sua máquina\n",
    "#e ajustar o enreço local para o chromedriver\n",
    "driver = webdriver.Chrome('C:\\\\Users\\\\giuliog\\Documents\\\\webdrivers\\\\chromedriver_87.0.4280.66.exe')\n",
    "\n",
    "#acessando a página pela sua URL\n",
    "#a URL já contém os filtros aplicados para as zonas eleitorais do município de Doutor Pedrinho\n",
    "driver.get('http://apps.tre-sc.jus.br/site/fileadmin/arquivos/eleicoes/estatistica_eleitoral/estat_offline/LocaisVotacao/MunicLocaisVotacao/MunicLocaisVotacao80080.htm')\n",
    "\n",
    "#esperando carregar a página\n",
    "time.sleep(3)\n",
    "\n",
    "#obtenção da tabela\n",
    "tableWE = driver.find_element_by_xpath(\"//table[@class = 'appDataTable'][1]\")"
   ]
  },
  {
   "cell_type": "code",
   "execution_count": 5,
   "metadata": {},
   "outputs": [
    {
     "data": {
      "text/html": [
       "<div>\n",
       "<style scoped>\n",
       "    .dataframe tbody tr th:only-of-type {\n",
       "        vertical-align: middle;\n",
       "    }\n",
       "\n",
       "    .dataframe tbody tr th {\n",
       "        vertical-align: top;\n",
       "    }\n",
       "\n",
       "    .dataframe thead th {\n",
       "        text-align: right;\n",
       "    }\n",
       "</style>\n",
       "<table border=\"1\" class=\"dataframe\">\n",
       "  <thead>\n",
       "    <tr style=\"text-align: right;\">\n",
       "      <th></th>\n",
       "      <th>0</th>\n",
       "      <th>1</th>\n",
       "      <th>2</th>\n",
       "      <th>3</th>\n",
       "      <th>4</th>\n",
       "      <th>5</th>\n",
       "      <th>6</th>\n",
       "    </tr>\n",
       "  </thead>\n",
       "  <tbody>\n",
       "    <tr>\n",
       "      <th>0</th>\n",
       "      <td>Nº Local</td>\n",
       "      <td>Local</td>\n",
       "      <td>Z.E.</td>\n",
       "      <td>Endereço</td>\n",
       "      <td>CEP</td>\n",
       "      <td>Seções(Eleitores)</td>\n",
       "      <td>Total de Eleitores</td>\n",
       "    </tr>\n",
       "    <tr>\n",
       "      <th>1</th>\n",
       "      <td>1015</td>\n",
       "      <td>NÚCLEO EDUCACIONAL FRITZ DONNER</td>\n",
       "      <td>32</td>\n",
       "      <td>RUA DA GLÓRIA, N. 236 - SALTO DONNER - 47 3388...</td>\n",
       "      <td>89126000</td>\n",
       "      <td>20(290), 139(290)</td>\n",
       "      <td>580</td>\n",
       "    </tr>\n",
       "    <tr>\n",
       "      <th>2</th>\n",
       "      <td>1023</td>\n",
       "      <td>UNIDADE DE EDUCAÇÃO INFANTIL CHAPEUZINHO VERMELHO</td>\n",
       "      <td>32</td>\n",
       "      <td>RUA NAVEGANTES, 54 - NOVA RODEIO - 47 3388 0919</td>\n",
       "      <td>89126000</td>\n",
       "      <td>21(290), 153(140)</td>\n",
       "      <td>430</td>\n",
       "    </tr>\n",
       "    <tr>\n",
       "      <th>3</th>\n",
       "      <td>1031</td>\n",
       "      <td>ESCOLA DE EDUCAÇÃO BÁSICA FREI LUCÍNIO KORTE</td>\n",
       "      <td>32</td>\n",
       "      <td>RUA SANTA CATARINA, 416 - CENTRO - 47 33993045</td>\n",
       "      <td>89126000</td>\n",
       "      <td>26(340), 27(336), 28(333), 29(336), 125(336)</td>\n",
       "      <td>1.681</td>\n",
       "    </tr>\n",
       "    <tr>\n",
       "      <th>4</th>\n",
       "      <td>1066</td>\n",
       "      <td>UNIDADE DE EDUCAÇÃO INFANTIL FREI ANTÔNIO CARL...</td>\n",
       "      <td>32</td>\n",
       "      <td>ESTRADA GERAL FORCAÇÃO, 14490 - FORCAÇÃO - 47 ...</td>\n",
       "      <td>89126000</td>\n",
       "      <td>30(138), 31(135)</td>\n",
       "      <td>273</td>\n",
       "    </tr>\n",
       "  </tbody>\n",
       "</table>\n",
       "</div>"
      ],
      "text/plain": [
       "          0                                                  1     2  \\\n",
       "0  Nº Local                                              Local  Z.E.   \n",
       "1      1015                    NÚCLEO EDUCACIONAL FRITZ DONNER    32   \n",
       "2      1023  UNIDADE DE EDUCAÇÃO INFANTIL CHAPEUZINHO VERMELHO    32   \n",
       "3      1031       ESCOLA DE EDUCAÇÃO BÁSICA FREI LUCÍNIO KORTE    32   \n",
       "4      1066  UNIDADE DE EDUCAÇÃO INFANTIL FREI ANTÔNIO CARL...    32   \n",
       "\n",
       "                                                   3         4  \\\n",
       "0                                           Endereço       CEP   \n",
       "1  RUA DA GLÓRIA, N. 236 - SALTO DONNER - 47 3388...  89126000   \n",
       "2    RUA NAVEGANTES, 54 - NOVA RODEIO - 47 3388 0919  89126000   \n",
       "3     RUA SANTA CATARINA, 416 - CENTRO - 47 33993045  89126000   \n",
       "4  ESTRADA GERAL FORCAÇÃO, 14490 - FORCAÇÃO - 47 ...  89126000   \n",
       "\n",
       "                                              5                   6  \n",
       "0                             Seções(Eleitores)  Total de Eleitores  \n",
       "1                             20(290), 139(290)                 580  \n",
       "2                             21(290), 153(140)                 430  \n",
       "3  26(340), 27(336), 28(333), 29(336), 125(336)               1.681  \n",
       "4                              30(138), 31(135)                 273  "
      ]
     },
     "execution_count": 5,
     "metadata": {},
     "output_type": "execute_result"
    }
   ],
   "source": [
    "#obtendo o conteúdo HTML da tabela\n",
    "html_content = tableWE.get_attribute('outerHTML')\n",
    "soup = BeautifulSoup(html_content, 'html.parser')\n",
    "tableSOUP = soup.find(name='table')\n",
    "#convertendo HTML para Pandas Data Frame\n",
    "df_full = pd.read_html(str(tableSOUP))[0]\n",
    "df_full"
   ]
  },
  {
   "cell_type": "code",
   "execution_count": 16,
   "metadata": {},
   "outputs": [
    {
     "data": {
      "text/plain": [
       "'RUA DA GLÓRIA, N. 236 - SALTO DONNER - 47 3388 0410'"
      ]
     },
     "execution_count": 16,
     "metadata": {},
     "output_type": "execute_result"
    }
   ],
   "source": [
    "#acessando o primeiro endereço\n",
    "df_full[3][1]"
   ]
  },
  {
   "cell_type": "code",
   "execution_count": 33,
   "metadata": {},
   "outputs": [],
   "source": [
    "#definindo função para remover o telefone ao final dos endereços\n",
    "def cleanAdress(adress):\n",
    "    adress_lenght = len(adress) - 1\n",
    "    cut_position = 0\n",
    "    for i in range(adress_lenght, 0, -1):\n",
    "        if char == \"-\":\n",
    "            return adress[0:i-1].strip()"
   ]
  },
  {
   "cell_type": "code",
   "execution_count": null,
   "metadata": {},
   "outputs": [],
   "source": []
  }
 ],
 "metadata": {
  "kernelspec": {
   "display_name": "Python 3",
   "language": "python",
   "name": "python3"
  },
  "language_info": {
   "codemirror_mode": {
    "name": "ipython",
    "version": 3
   },
   "file_extension": ".py",
   "mimetype": "text/x-python",
   "name": "python",
   "nbconvert_exporter": "python",
   "pygments_lexer": "ipython3",
   "version": "3.7.0"
  }
 },
 "nbformat": 4,
 "nbformat_minor": 2
}
